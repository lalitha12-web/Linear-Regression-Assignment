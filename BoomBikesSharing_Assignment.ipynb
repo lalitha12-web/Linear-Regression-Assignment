{
  "nbformat": 4,
  "nbformat_minor": 0,
  "metadata": {
    "colab": {
      "provenance": [],
      "mount_file_id": "1agZs9zJL1kYlO1JFMhM7xhCNFSoF1h4U",
      "authorship_tag": "ABX9TyMHmFI9KauFPoAAKFxj2+oB",
      "include_colab_link": true
    },
    "kernelspec": {
      "name": "python3",
      "display_name": "Python 3"
    },
    "language_info": {
      "name": "python"
    }
  },
  "cells": [
    {
      "cell_type": "markdown",
      "metadata": {
        "id": "view-in-github",
        "colab_type": "text"
      },
      "source": [
        "<a href=\"https://colab.research.google.com/github/lalitha12-web/Linear-Regression-Assignment/blob/main/BoomBikesSharing_Assignment.ipynb\" target=\"_parent\"><img src=\"https://colab.research.google.com/assets/colab-badge.svg\" alt=\"Open In Colab\"/></a>"
      ]
    },
    {
      "cell_type": "code",
      "execution_count": null,
      "metadata": {
        "id": "sEgPKjWAvPSr"
      },
      "outputs": [],
      "source": []
    }
  ]
}